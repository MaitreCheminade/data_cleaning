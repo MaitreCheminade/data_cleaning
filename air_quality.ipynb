{
 "cells": [
  {
   "attachments": {},
   "cell_type": "markdown",
   "metadata": {},
   "source": [
    "# Évaluation de la qualité de l'air \n",
    "***\n",
    "Comparaison internationale des mesures de qualité de l'air  \n",
    "***"
   ]
  },
  {
   "cell_type": "code",
   "execution_count": null,
   "metadata": {},
   "outputs": [],
   "source": [
    "import pandas as pd \n",
    "import numpy as np \n",
    "from scipy import stats \n",
    "# on va d'abord charger le csv \n",
    "df = pd.read_csv(\"openaq.csv\", sep = \";\", encoding = \"UTF-8\")\n",
    "# on fait en sorte que tout ce qui n'est pas encodable en UTF-8 dégage \n",
    "for row in df :\n",
    "  row.encode('utf-8','ignore').decode(\"utf-8\")\n",
    "display(df)\n",
    "df.dtypes\n"
   ]
  },
  {
   "attachments": {},
   "cell_type": "markdown",
   "metadata": {},
   "source": [
    "1. Ne garder qu'une seule date "
   ]
  },
  {
   "cell_type": "code",
   "execution_count": null,
   "metadata": {},
   "outputs": [],
   "source": [
    "# on ne retient que les mesures datant du 6 août 2021\n",
    "df = df.loc[df[\"Last Updated\"].str.contains(\"2021-08-06\")]\n",
    "display(df)"
   ]
  },
  {
   "attachments": {},
   "cell_type": "markdown",
   "metadata": {},
   "source": [
    "2. Vérifier qu'on n'a qu'une seule mesure par polluant par ville"
   ]
  },
  {
   "cell_type": "code",
   "execution_count": null,
   "metadata": {},
   "outputs": [],
   "source": [
    "# ne garder que des polluants uniques pour chaque ville (le plus élevé)\n",
    "# max_poll = df.groupby([\"City\", \"Pollutant\"])[\"Value\"].max()\n",
    "# df = pd.merge(df, max_poll, how = \"inner\", on = [\"Pollutant\", \"City\", \"Value\"])\n",
    "# duplicated_city = df.duplicated(subset = [\"City\"]) \n",
    "# duplicated_city_df = df[duplicated_city]\n",
    "# duplicated_all = duplicated_city_df.duplicated(subset = [\"Pollutant\"])\n",
    "# duplicated_df = duplicated_city_df[duplicated_all]\n",
    "# print(duplicated_df)\n",
    "max_poll = df.groupby([\"City\", \"Pollutant\"])[\"Value\"].max()\n",
    "df = pd.merge(df, max_poll, how = \"inner\", on = [\"Pollutant\", \"City\", \"Value\"])\n",
    "df = df.drop_duplicates(subset = [\"City\", \"Pollutant\"])\n",
    "display(df)"
   ]
  },
  {
   "attachments": {},
   "cell_type": "markdown",
   "metadata": {},
   "source": [
    "3. Repérer les outliers \n",
    "***"
   ]
  },
  {
   "cell_type": "code",
   "execution_count": null,
   "metadata": {},
   "outputs": [],
   "source": [
    "# on va calculer le Z-score des différentes valeurs \n",
    "z_score = stats.zscore(df[\"Value\"], ddof = 1, nan_policy = \"omit\")\n",
    "# et sélectionner les valeurs pour lesquelles l'écart à la moyenne est supérieur à 3 écarts types\n",
    "mask = np.abs(z_score) > 3\n",
    "outliers = df[mask]\n",
    "display(outliers)\n",
    "outliers.to_csv(\"outliers.csv\", sep = \";\", encoding = \"UTF-8\", )\n",
    "df_clean = df.loc[df[\"Value\"] > 0]\n",
    "df_clean.to_csv(\"air_quality_clean.csv\", sep = \";\", encoding = \"UTF-8\")"
   ]
  },
  {
   "cell_type": "markdown",
   "metadata": {},
   "source": []
  }
 ],
 "metadata": {
  "kernelspec": {
   "display_name": "Python 3",
   "language": "python",
   "name": "python3"
  },
  "language_info": {
   "codemirror_mode": {
    "name": "ipython",
    "version": 3
   },
   "file_extension": ".py",
   "mimetype": "text/x-python",
   "name": "python",
   "nbconvert_exporter": "python",
   "pygments_lexer": "ipython3",
   "version": "3.10.9"
  },
  "orig_nbformat": 4
 },
 "nbformat": 4,
 "nbformat_minor": 2
}
